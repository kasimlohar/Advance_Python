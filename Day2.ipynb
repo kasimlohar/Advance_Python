{
 "cells": [
  {
   "cell_type": "markdown",
   "metadata": {},
   "source": [
    "# Day 2 ---> Advance Python [08th Jan 2025]\n",
    "## Dictionary Comprehensions"
   ]
  },
  {
   "cell_type": "code",
   "execution_count": 17,
   "metadata": {},
   "outputs": [
    {
     "name": "stdout",
     "output_type": "stream",
     "text": [
      "Dictionary: {'John': 85, 'Smith': 90, 'Alex': 82, 'Tina': 93}\n"
     ]
    }
   ],
   "source": [
    "names = ['John', 'Smith', 'Alex', 'Tina']\n",
    "marks = [85, 90, 82, 93]\n",
    "\n",
    "# Without Dictionary Comprehension\n",
    "stInfo = {}\n",
    "for (key, value) in zip(names, marks):\n",
    "    stInfo[key] = value\n",
    "\n",
    "print(\"Dictionary:\", stInfo)"
   ]
  },
  {
   "cell_type": "code",
   "execution_count": 18,
   "metadata": {},
   "outputs": [
    {
     "name": "stdout",
     "output_type": "stream",
     "text": [
      "Dictionary (Comprehension): {'John': 85, 'Smith': 90, 'Alex': 82, 'Tina': 93}\n"
     ]
    }
   ],
   "source": [
    "# Dictionary Comprehension\n",
    "stInfo_comp = {key: value for (key, value) in zip(names, marks)}\n",
    "print(\"Dictionary (Comprehension):\", stInfo_comp)"
   ]
  },
  {
   "cell_type": "code",
   "execution_count": 19,
   "metadata": {},
   "outputs": [
    {
     "name": "stdout",
     "output_type": "stream",
     "text": [
      "Cubes: {1: 1, 2: 8, 3: 27, 4: 64, 5: 125}\n"
     ]
    }
   ],
   "source": [
    "numbers = [1, 2, 3, 4, 5]\n",
    "# {1:1, 2:8, 3:27, 4:64, 5:125}\n",
    "cubes = {}\n",
    "for num in numbers:\n",
    "    cubes[num] = num**3\n",
    "print(\"Cubes:\", cubes)"
   ]
  },
  {
   "cell_type": "code",
   "execution_count": 20,
   "metadata": {},
   "outputs": [
    {
     "name": "stdout",
     "output_type": "stream",
     "text": [
      "Cubes (Comprehension): {1: 1, 2: 8, 3: 27, 4: 64, 5: 125}\n"
     ]
    }
   ],
   "source": [
    "# Dictionary Comprehension\n",
    "cubes_comp = {num: num**3 for num in numbers}\n",
    "print(\"Cubes (Comprehension):\", cubes_comp)"
   ]
  },
  {
   "cell_type": "code",
   "execution_count": 21,
   "metadata": {},
   "outputs": [
    {
     "name": "stdout",
     "output_type": "stream",
     "text": [
      "Cubes (Comprehension ( unique key )):  {1: 1, 2: 8, 3: 27, 4: 64, 5: 125, 6: 216, 7: 343, 8: 512, 9: 729, 10: 1000}\n"
     ]
    }
   ],
   "source": [
    "# set Comprehension ( only unique values contain by keys in dictionary)\n",
    "numbers2 = [1, 2, 3, 4, 4, 5, 5, 6, 7, 7, 8, 8, 9, 10, 10, 9, 3, 5]\n",
    "cubes_comp2 = {num: num**3 for num in numbers2}\n",
    "print(\"Cubes (Comprehension ( unique key )): \", cubes_comp2)"
   ]
  },
  {
   "cell_type": "code",
   "execution_count": 22,
   "metadata": {},
   "outputs": [
    {
     "name": "stdout",
     "output_type": "stream",
     "text": [
      "Conditional Cubes (Comprehension): {2: 8, 4: 64}\n"
     ]
    }
   ],
   "source": [
    "# Conditional Dictionary Comprehension\n",
    "cond_dict = {num: num**3 for num in numbers if num % 2 == 0}\n",
    "print(\"Conditional Cubes (Comprehension):\", cond_dict)"
   ]
  },
  {
   "cell_type": "code",
   "execution_count": 23,
   "metadata": {},
   "outputs": [
    {
     "name": "stdout",
     "output_type": "stream",
     "text": [
      "Set (Comprehension): {2, 4, 6, 8, 10}\n"
     ]
    }
   ],
   "source": [
    "# Set Data structure \n",
    "set1 = { i for i in numbers2 if i % 2 == 0}\n",
    "print(\"Set (Comprehension):\", set1)"
   ]
  },
  {
   "cell_type": "code",
   "execution_count": 24,
   "metadata": {},
   "outputs": [
    {
     "name": "stdout",
     "output_type": "stream",
     "text": [
      "Generator (Comprehension): <generator object <genexpr> at 0x000001FCFCC51A40>\n",
      "2 4 4 6 8 8 10 10 "
     ]
    }
   ],
   "source": [
    "# Example of Generator comprehension ( not a tuple comprehension)\n",
    "# is similar to list comprehension, but it returns a generator object instead of a list. (Circular Brackets)\n",
    "# Memory Efficient\n",
    "res = (i for i in numbers2 if i % 2 == 0)\n",
    "print(\"Generator (Comprehension):\", res)\n",
    "for i in res:\n",
    "    print(i, end=\" \")"
   ]
  },
  {
   "cell_type": "code",
   "execution_count": 25,
   "metadata": {},
   "outputs": [
    {
     "name": "stdout",
     "output_type": "stream",
     "text": [
      "Index: 0, Value: 10\n",
      "Index: 1, Value: 20\n",
      "Index: 2, Value: 30\n",
      "Index: 3, Value: 40\n",
      "Index: 4, Value: 50\n"
     ]
    }
   ],
   "source": [
    "# ennumerate() function \n",
    "# 0 : 10 \n",
    "# 1 : 20\n",
    "# it adds a counter to an iterable and returns it in a form of enumerate object.\n",
    "list1 = [10, 20, 30, 40, 50]\n",
    "for index, value in enumerate(list1):\n",
    "    print(f\"Index: {index}, Value: {value}\")"
   ]
  },
  {
   "cell_type": "markdown",
   "metadata": {},
   "source": [
    "## Arrays : Numpy\n",
    "## Series and DataFrames : Pandas"
   ]
  }
 ],
 "metadata": {
  "kernelspec": {
   "display_name": "Python 3",
   "language": "python",
   "name": "python3"
  },
  "language_info": {
   "codemirror_mode": {
    "name": "ipython",
    "version": 3
   },
   "file_extension": ".py",
   "mimetype": "text/x-python",
   "name": "python",
   "nbconvert_exporter": "python",
   "pygments_lexer": "ipython3",
   "version": "3.13.1"
  }
 },
 "nbformat": 4,
 "nbformat_minor": 4
}
