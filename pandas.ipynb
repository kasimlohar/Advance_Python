{
 "cells": [
  {
   "cell_type": "code",
   "execution_count": 1,
   "metadata": {},
   "outputs": [
    {
     "data": {
      "text/plain": [
       "'\\nPandas is an open-source Python library providing high-performance,\\neasy-to-use data structures and data analysis tools for the Python\\nprogramming language. Python with Pandas is used in a wide range of\\nfields including academic and commercial domains including finance,\\neconomics, Statistics, analytics, etc.\\n \\nIn 2008, developer Wes McKinney started developing pandas when in need\\nof high performance, flexible tool for analysis of data.\\n \\nPrior to Pandas, Python was majorly used for data munging and preparation.\\nIt had very little contribution towards data analysis.\\nPandas solved this problem. Using Pandas, we can accomplish five typical\\nsteps in the processing and analysis of data, regardless of the\\norigin of data — load, prepare, manipulate, model, and analyze.\\n \\nKey Features of Pandas\\n \\na.) Tools for loading data into in-memory data objects from different file formats.\\n \\nb.) Data alignment and integrated handling of missing data.\\n \\nc.) Label-based slicing, indexing and subsetting of large data sets.\\n \\nd.) Columns from a data structure can be deleted or inserted.\\n \\ne.) Group by data for aggregation and transformations.\\n \\nf.) High performance merging and joining of data.\\n \\ng.) Time Series functionality.\\n \\n \\nNumpy vs Pandas\\n \\na.) The Pandas module mainly works with the tabular data, whereas the NumPy module works with\\nthe numerical data.\\n \\nb.) The Pandas provides some sets of powerful tools like DataFrame and Series that mainly used\\nfor analyzing the data, whereas in NumPy module offers a powerful object called Array.\\n \\nc.) The Pandas covered the broader application because it is mentioned in 73 company stacks and\\n46 developer stacks, whereas in NumPy, 62 company stacks and 32 developer stacks are being\\nmentioned.\\n \\nd.) Pandas has a better performance for 500K rows or more.  NumPy has a better performance for\\n50K rows or less.\\n \\n'"
      ]
     },
     "execution_count": 1,
     "metadata": {},
     "output_type": "execute_result"
    }
   ],
   "source": [
    "# Pandas\n",
    " \n",
    "# pandas is a fast, powerful, flexible and easy to use open source data analysis and\n",
    "# manipulation tool, built on top of the Python programming language.\n",
    " \n",
    "# Pandas is the backbone of most data science projects.\n",
    " \n",
    "'''\n",
    "Pandas is an open-source Python library providing high-performance,\n",
    "easy-to-use data structures and data analysis tools for the Python\n",
    "programming language. Python with Pandas is used in a wide range of\n",
    "fields including academic and commercial domains including finance,\n",
    "economics, Statistics, analytics, etc.\n",
    " \n",
    "In 2008, developer Wes McKinney started developing pandas when in need\n",
    "of high performance, flexible tool for analysis of data.\n",
    " \n",
    "Prior to Pandas, Python was majorly used for data munging and preparation.\n",
    "It had very little contribution towards data analysis.\n",
    "Pandas solved this problem. Using Pandas, we can accomplish five typical\n",
    "steps in the processing and analysis of data, regardless of the\n",
    "origin of data — load, prepare, manipulate, model, and analyze.\n",
    " \n",
    "Key Features of Pandas\n",
    " \n",
    "a.) Tools for loading data into in-memory data objects from different file formats.\n",
    " \n",
    "b.) Data alignment and integrated handling of missing data.\n",
    " \n",
    "c.) Label-based slicing, indexing and subsetting of large data sets.\n",
    " \n",
    "d.) Columns from a data structure can be deleted or inserted.\n",
    " \n",
    "e.) Group by data for aggregation and transformations.\n",
    " \n",
    "f.) High performance merging and joining of data.\n",
    " \n",
    "g.) Time Series functionality.\n",
    " \n",
    " \n",
    "Numpy vs Pandas\n",
    " \n",
    "a.) The Pandas module mainly works with the tabular data, whereas the NumPy module works with\n",
    "the numerical data.\n",
    " \n",
    "b.) The Pandas provides some sets of powerful tools like DataFrame and Series that mainly used\n",
    "for analyzing the data, whereas in NumPy module offers a powerful object called Array.\n",
    " \n",
    "c.) The Pandas covered the broader application because it is mentioned in 73 company stacks and\n",
    "46 developer stacks, whereas in NumPy, 62 company stacks and 32 developer stacks are being\n",
    "mentioned.\n",
    " \n",
    "d.) Pandas has a better performance for 500K rows or more.  NumPy has a better performance for\n",
    "50K rows or less.\n",
    " \n",
    "'''\n",
    " \n",
    "# Pandas\n",
    " \n",
    "# a.) Series  --> is a 1D labelled data\n",
    " \n",
    "# b.) DataFrame --> represent the data in tabular format\n",
    "\n"
   ]
  },
  {
   "cell_type": "code",
   "execution_count": 2,
   "metadata": {},
   "outputs": [],
   "source": [
    "import numpy as np\n",
    "import pandas as pd\n",
    "import openpyxl\n"
   ]
  },
  {
   "cell_type": "code",
   "execution_count": 3,
   "metadata": {},
   "outputs": [
    {
     "name": "stdout",
     "output_type": "stream",
     "text": [
      "[10 20 30 40 50]\n"
     ]
    }
   ],
   "source": [
    "arr = np.array([10, 20, 30, 40, 50])\n",
    "print(arr)"
   ]
  },
  {
   "cell_type": "code",
   "execution_count": 4,
   "metadata": {},
   "outputs": [
    {
     "name": "stdout",
     "output_type": "stream",
     "text": [
      "<class 'pandas.core.series.Series'>\n",
      "0    1\n",
      "1    2\n",
      "2    3\n",
      "3    4\n",
      "4    5\n",
      "dtype: int64\n"
     ]
    }
   ],
   "source": [
    "arr = [1, 2, 3, 4, 5]\n",
    "s = pd.Series(arr)\n",
    "print(type(s))\n",
    "print(s)"
   ]
  },
  {
   "cell_type": "code",
   "execution_count": 5,
   "metadata": {},
   "outputs": [
    {
     "name": "stdout",
     "output_type": "stream",
     "text": [
      "a    1\n",
      "b    2\n",
      "c    3\n",
      "d    4\n",
      "e    5\n",
      "dtype: int64\n",
      "1\n",
      "1\n"
     ]
    }
   ],
   "source": [
    "s = pd.Series(arr, index=['a', 'b', 'c', 'd', 'e'])\n",
    "print(s)\n",
    "print(s['a'])\n",
    "print(s.iloc[0])"
   ]
  },
  {
   "cell_type": "code",
   "execution_count": 6,
   "metadata": {},
   "outputs": [
    {
     "name": "stdout",
     "output_type": "stream",
     "text": [
      "     Name  Age\n",
      "0     Tom   28\n",
      "1   Jerry   34\n",
      "2  Mickey   29\n",
      "3    Mini   42\n"
     ]
    }
   ],
   "source": [
    "# DataFrame\n",
    "data = {'Name': ['Tom', 'Jerry', 'Mickey', 'Mini'],\n",
    "        'Age': [28, 34, 29, 42]}\n",
    "df = pd.DataFrame(data)\n",
    "print(df)\n"
   ]
  },
  {
   "cell_type": "code",
   "execution_count": 7,
   "metadata": {},
   "outputs": [
    {
     "name": "stdout",
     "output_type": "stream",
     "text": [
      "{'Name': ['Tom', 'Jerry', 'Mickey', 'Mini'], 'Age': [28, 34, 29, 42]}\n"
     ]
    }
   ],
   "source": [
    "emp_data = {'Name': ['Tom', 'Jerry', 'Mickey', 'Mini'], 'Age': [28, 34, 29, 42]}\n",
    "print(emp_data)\n"
   ]
  },
  {
   "cell_type": "code",
   "execution_count": 8,
   "metadata": {},
   "outputs": [
    {
     "name": "stdout",
     "output_type": "stream",
     "text": [
      "<class 'pandas.core.frame.DataFrame'>\n",
      "     Name  Age\n",
      "0     Tom   28\n",
      "1   Jerry   34\n",
      "2  Mickey   29\n",
      "3    Mini   42\n"
     ]
    }
   ],
   "source": [
    "data = pd.DataFrame(emp_data)\n",
    "print(type(data))\n",
    "print(data)"
   ]
  },
  {
   "cell_type": "code",
   "execution_count": 9,
   "metadata": {},
   "outputs": [
    {
     "name": "stdout",
     "output_type": "stream",
     "text": [
      "         Name  Age\n",
      "rank1     Tom   28\n",
      "rank2   Jerry   34\n",
      "rank3  Mickey   29\n",
      "rank4    Mini   42\n"
     ]
    }
   ],
   "source": [
    "emp_data = {'Name': ['Tom', 'Jerry', 'Mickey', 'Mini'], 'Age': [28, 34, 29, 42]}\n",
    "data = pd.DataFrame(emp_data, index=['rank1', 'rank2', 'rank3', 'rank4'])\n",
    "print(data)"
   ]
  },
  {
   "cell_type": "code",
   "execution_count": 10,
   "metadata": {},
   "outputs": [
    {
     "data": {
      "text/plain": [
       "(4, 2)"
      ]
     },
     "execution_count": 10,
     "metadata": {},
     "output_type": "execute_result"
    }
   ],
   "source": [
    "data.shape"
   ]
  },
  {
   "cell_type": "code",
   "execution_count": 11,
   "metadata": {},
   "outputs": [
    {
     "name": "stdout",
     "output_type": "stream",
     "text": [
      "Name\n",
      "Age\n"
     ]
    }
   ],
   "source": [
    "for i in data:\n",
    "    print(i)"
   ]
  },
  {
   "cell_type": "code",
   "execution_count": 12,
   "metadata": {},
   "outputs": [
    {
     "data": {
      "text/plain": [
       "Index(['Name', 'Age'], dtype='object')"
      ]
     },
     "execution_count": 12,
     "metadata": {},
     "output_type": "execute_result"
    }
   ],
   "source": [
    "data.columns"
   ]
  },
  {
   "cell_type": "code",
   "execution_count": 13,
   "metadata": {},
   "outputs": [
    {
     "name": "stdout",
     "output_type": "stream",
     "text": [
      "['Tom' 'Jerry' 'Mickey' 'Mini']\n"
     ]
    }
   ],
   "source": [
    "print(data.Name.values)"
   ]
  },
  {
   "cell_type": "code",
   "execution_count": 14,
   "metadata": {},
   "outputs": [
    {
     "data": {
      "text/html": [
       "<div>\n",
       "<style scoped>\n",
       "    .dataframe tbody tr th:only-of-type {\n",
       "        vertical-align: middle;\n",
       "    }\n",
       "\n",
       "    .dataframe tbody tr th {\n",
       "        vertical-align: top;\n",
       "    }\n",
       "\n",
       "    .dataframe thead th {\n",
       "        text-align: right;\n",
       "    }\n",
       "</style>\n",
       "<table border=\"1\" class=\"dataframe\">\n",
       "  <thead>\n",
       "    <tr style=\"text-align: right;\">\n",
       "      <th></th>\n",
       "      <th>Name</th>\n",
       "      <th>Age</th>\n",
       "    </tr>\n",
       "  </thead>\n",
       "  <tbody>\n",
       "    <tr>\n",
       "      <th>rank1</th>\n",
       "      <td>Tom</td>\n",
       "      <td>28</td>\n",
       "    </tr>\n",
       "    <tr>\n",
       "      <th>rank2</th>\n",
       "      <td>Jerry</td>\n",
       "      <td>34</td>\n",
       "    </tr>\n",
       "    <tr>\n",
       "      <th>rank3</th>\n",
       "      <td>Mickey</td>\n",
       "      <td>29</td>\n",
       "    </tr>\n",
       "    <tr>\n",
       "      <th>rank4</th>\n",
       "      <td>Mini</td>\n",
       "      <td>42</td>\n",
       "    </tr>\n",
       "  </tbody>\n",
       "</table>\n",
       "</div>"
      ],
      "text/plain": [
       "         Name  Age\n",
       "rank1     Tom   28\n",
       "rank2   Jerry   34\n",
       "rank3  Mickey   29\n",
       "rank4    Mini   42"
      ]
     },
     "execution_count": 14,
     "metadata": {},
     "output_type": "execute_result"
    }
   ],
   "source": [
    "data[['Name', 'Age']]"
   ]
  },
  {
   "cell_type": "code",
   "execution_count": 15,
   "metadata": {},
   "outputs": [
    {
     "data": {
      "text/plain": [
       "Name    Tom\n",
       "Age      28\n",
       "Name: rank1, dtype: object"
      ]
     },
     "execution_count": 15,
     "metadata": {},
     "output_type": "execute_result"
    }
   ],
   "source": [
    "# locate row by index\n",
    "\n",
    "data.loc['rank1']"
   ]
  },
  {
   "cell_type": "code",
   "execution_count": 16,
   "metadata": {},
   "outputs": [
    {
     "data": {
      "text/plain": [
       "DatetimeIndex(['2021-01-01', '2021-01-02', '2021-01-03', '2021-01-04',\n",
       "               '2021-01-05', '2021-01-06', '2021-01-07', '2021-01-08',\n",
       "               '2021-01-09', '2021-01-10'],\n",
       "              dtype='datetime64[ns]', freq='D')"
      ]
     },
     "execution_count": 16,
     "metadata": {},
     "output_type": "execute_result"
    }
   ],
   "source": [
    "# data.range('yyyymmdd', periods=10)\n",
    "dates = pd.date_range('20210101', periods=10)\n",
    "dates"
   ]
  },
  {
   "cell_type": "code",
   "execution_count": 17,
   "metadata": {},
   "outputs": [
    {
     "data": {
      "text/html": [
       "<div>\n",
       "<style scoped>\n",
       "    .dataframe tbody tr th:only-of-type {\n",
       "        vertical-align: middle;\n",
       "    }\n",
       "\n",
       "    .dataframe tbody tr th {\n",
       "        vertical-align: top;\n",
       "    }\n",
       "\n",
       "    .dataframe thead th {\n",
       "        text-align: right;\n",
       "    }\n",
       "</style>\n",
       "<table border=\"1\" class=\"dataframe\">\n",
       "  <thead>\n",
       "    <tr style=\"text-align: right;\">\n",
       "      <th></th>\n",
       "      <th>A</th>\n",
       "      <th>B</th>\n",
       "      <th>C</th>\n",
       "      <th>D</th>\n",
       "    </tr>\n",
       "  </thead>\n",
       "  <tbody>\n",
       "    <tr>\n",
       "      <th>2021-01-01</th>\n",
       "      <td>0.101795</td>\n",
       "      <td>0.085212</td>\n",
       "      <td>0.094418</td>\n",
       "      <td>0.575374</td>\n",
       "    </tr>\n",
       "    <tr>\n",
       "      <th>2021-01-02</th>\n",
       "      <td>0.898823</td>\n",
       "      <td>0.979809</td>\n",
       "      <td>0.391418</td>\n",
       "      <td>0.506757</td>\n",
       "    </tr>\n",
       "    <tr>\n",
       "      <th>2021-01-03</th>\n",
       "      <td>0.017679</td>\n",
       "      <td>0.047898</td>\n",
       "      <td>0.590432</td>\n",
       "      <td>0.133987</td>\n",
       "    </tr>\n",
       "    <tr>\n",
       "      <th>2021-01-04</th>\n",
       "      <td>0.792968</td>\n",
       "      <td>0.758428</td>\n",
       "      <td>0.323181</td>\n",
       "      <td>0.381880</td>\n",
       "    </tr>\n",
       "    <tr>\n",
       "      <th>2021-01-05</th>\n",
       "      <td>0.678975</td>\n",
       "      <td>0.630352</td>\n",
       "      <td>0.292446</td>\n",
       "      <td>0.959828</td>\n",
       "    </tr>\n",
       "    <tr>\n",
       "      <th>2021-01-06</th>\n",
       "      <td>0.045157</td>\n",
       "      <td>0.219373</td>\n",
       "      <td>0.296597</td>\n",
       "      <td>0.127426</td>\n",
       "    </tr>\n",
       "    <tr>\n",
       "      <th>2021-01-07</th>\n",
       "      <td>0.204116</td>\n",
       "      <td>0.563748</td>\n",
       "      <td>0.164845</td>\n",
       "      <td>0.129795</td>\n",
       "    </tr>\n",
       "    <tr>\n",
       "      <th>2021-01-08</th>\n",
       "      <td>0.089373</td>\n",
       "      <td>0.297209</td>\n",
       "      <td>0.473813</td>\n",
       "      <td>0.522728</td>\n",
       "    </tr>\n",
       "    <tr>\n",
       "      <th>2021-01-09</th>\n",
       "      <td>0.285386</td>\n",
       "      <td>0.972925</td>\n",
       "      <td>0.418444</td>\n",
       "      <td>0.073223</td>\n",
       "    </tr>\n",
       "    <tr>\n",
       "      <th>2021-01-10</th>\n",
       "      <td>0.364086</td>\n",
       "      <td>0.577661</td>\n",
       "      <td>0.630766</td>\n",
       "      <td>0.374294</td>\n",
       "    </tr>\n",
       "  </tbody>\n",
       "</table>\n",
       "</div>"
      ],
      "text/plain": [
       "                   A         B         C         D\n",
       "2021-01-01  0.101795  0.085212  0.094418  0.575374\n",
       "2021-01-02  0.898823  0.979809  0.391418  0.506757\n",
       "2021-01-03  0.017679  0.047898  0.590432  0.133987\n",
       "2021-01-04  0.792968  0.758428  0.323181  0.381880\n",
       "2021-01-05  0.678975  0.630352  0.292446  0.959828\n",
       "2021-01-06  0.045157  0.219373  0.296597  0.127426\n",
       "2021-01-07  0.204116  0.563748  0.164845  0.129795\n",
       "2021-01-08  0.089373  0.297209  0.473813  0.522728\n",
       "2021-01-09  0.285386  0.972925  0.418444  0.073223\n",
       "2021-01-10  0.364086  0.577661  0.630766  0.374294"
      ]
     },
     "execution_count": 17,
     "metadata": {},
     "output_type": "execute_result"
    }
   ],
   "source": [
    "df = pd.DataFrame(np.random.rand(10, 4), index=dates, columns=list('ABCD'))\n",
    "df"
   ]
  },
  {
   "cell_type": "code",
   "execution_count": 18,
   "metadata": {},
   "outputs": [
    {
     "data": {
      "text/html": [
       "<div>\n",
       "<style scoped>\n",
       "    .dataframe tbody tr th:only-of-type {\n",
       "        vertical-align: middle;\n",
       "    }\n",
       "\n",
       "    .dataframe tbody tr th {\n",
       "        vertical-align: top;\n",
       "    }\n",
       "\n",
       "    .dataframe thead th {\n",
       "        text-align: right;\n",
       "    }\n",
       "</style>\n",
       "<table border=\"1\" class=\"dataframe\">\n",
       "  <thead>\n",
       "    <tr style=\"text-align: right;\">\n",
       "      <th></th>\n",
       "      <th>Id</th>\n",
       "      <th>Name</th>\n",
       "      <th>Salary</th>\n",
       "      <th>Dept</th>\n",
       "    </tr>\n",
       "  </thead>\n",
       "  <tbody>\n",
       "    <tr>\n",
       "      <th>0</th>\n",
       "      <td>101</td>\n",
       "      <td>John</td>\n",
       "      <td>1000</td>\n",
       "      <td>Finance</td>\n",
       "    </tr>\n",
       "    <tr>\n",
       "      <th>1</th>\n",
       "      <td>102</td>\n",
       "      <td>Smith</td>\n",
       "      <td>2000</td>\n",
       "      <td>Sales</td>\n",
       "    </tr>\n",
       "    <tr>\n",
       "      <th>2</th>\n",
       "      <td>103</td>\n",
       "      <td>Nurul</td>\n",
       "      <td>3000</td>\n",
       "      <td>HR</td>\n",
       "    </tr>\n",
       "    <tr>\n",
       "      <th>3</th>\n",
       "      <td>104</td>\n",
       "      <td>Tom</td>\n",
       "      <td>1200</td>\n",
       "      <td>IT</td>\n",
       "    </tr>\n",
       "    <tr>\n",
       "      <th>4</th>\n",
       "      <td>105</td>\n",
       "      <td>Harry</td>\n",
       "      <td>2800</td>\n",
       "      <td>Marketing</td>\n",
       "    </tr>\n",
       "    <tr>\n",
       "      <th>5</th>\n",
       "      <td>106</td>\n",
       "      <td>Smith</td>\n",
       "      <td>3200</td>\n",
       "      <td>Sales</td>\n",
       "    </tr>\n",
       "  </tbody>\n",
       "</table>\n",
       "</div>"
      ],
      "text/plain": [
       "    Id   Name  Salary       Dept\n",
       "0  101   John    1000    Finance\n",
       "1  102  Smith    2000      Sales\n",
       "2  103  Nurul    3000         HR\n",
       "3  104    Tom    1200         IT\n",
       "4  105  Harry    2800  Marketing\n",
       "5  106  Smith    3200      Sales"
      ]
     },
     "execution_count": 18,
     "metadata": {},
     "output_type": "execute_result"
    }
   ],
   "source": [
    "emp_info = {'Id':[101,102,103,104,105,106] , 'Name':['John','Smith','Nurul','Tom','Harry','Smith']\n",
    "            , 'Salary':[1000,2000,3000,1200,2800,3200]\n",
    "            ,'Dept':['Finance','Sales','HR','IT','Marketing','Sales']}\n",
    "data = pd.DataFrame(emp_info)\n",
    "data\n"
   ]
  },
  {
   "cell_type": "code",
   "execution_count": 19,
   "metadata": {},
   "outputs": [
    {
     "data": {
      "text/html": [
       "<div>\n",
       "<style scoped>\n",
       "    .dataframe tbody tr th:only-of-type {\n",
       "        vertical-align: middle;\n",
       "    }\n",
       "\n",
       "    .dataframe tbody tr th {\n",
       "        vertical-align: top;\n",
       "    }\n",
       "\n",
       "    .dataframe thead th {\n",
       "        text-align: right;\n",
       "    }\n",
       "</style>\n",
       "<table border=\"1\" class=\"dataframe\">\n",
       "  <thead>\n",
       "    <tr style=\"text-align: right;\">\n",
       "      <th></th>\n",
       "      <th>Id</th>\n",
       "      <th>Name</th>\n",
       "      <th>Salary</th>\n",
       "      <th>Dept</th>\n",
       "    </tr>\n",
       "  </thead>\n",
       "  <tbody>\n",
       "    <tr>\n",
       "      <th>1</th>\n",
       "      <td>102</td>\n",
       "      <td>Smith</td>\n",
       "      <td>2000</td>\n",
       "      <td>Sales</td>\n",
       "    </tr>\n",
       "    <tr>\n",
       "      <th>5</th>\n",
       "      <td>106</td>\n",
       "      <td>Smith</td>\n",
       "      <td>3200</td>\n",
       "      <td>Sales</td>\n",
       "    </tr>\n",
       "  </tbody>\n",
       "</table>\n",
       "</div>"
      ],
      "text/plain": [
       "    Id   Name  Salary   Dept\n",
       "1  102  Smith    2000  Sales\n",
       "5  106  Smith    3200  Sales"
      ]
     },
     "execution_count": 19,
     "metadata": {},
     "output_type": "execute_result"
    }
   ],
   "source": [
    "data[(data['Salary'] > 1500) & (data['Dept'] == 'Sales')]"
   ]
  },
  {
   "cell_type": "code",
   "execution_count": 20,
   "metadata": {},
   "outputs": [],
   "source": [
    "# Pandas\n",
    "# Pandas is a powerful and flexible Python package that allows you to work with labeled and\n",
    "# time series data. It also provides statistics methods, enables plotting, and more.\n",
    "# One crucial feature of pandas is its ability to write and read Excel, CSV, and many other types of files.\n",
    " \n",
    "# Reading An Excel File\n",
    "# Reading A CSV File\n",
    "# Reading tab-delimited file\n",
    "# Reading A JSON File\n",
    "# Uploading Local Files In Jupyter / Google Colab"
   ]
  },
  {
   "cell_type": "code",
   "execution_count": 21,
   "metadata": {},
   "outputs": [
    {
     "data": {
      "text/html": [
       "<div>\n",
       "<style scoped>\n",
       "    .dataframe tbody tr th:only-of-type {\n",
       "        vertical-align: middle;\n",
       "    }\n",
       "\n",
       "    .dataframe tbody tr th {\n",
       "        vertical-align: top;\n",
       "    }\n",
       "\n",
       "    .dataframe thead th {\n",
       "        text-align: right;\n",
       "    }\n",
       "</style>\n",
       "<table border=\"1\" class=\"dataframe\">\n",
       "  <thead>\n",
       "    <tr style=\"text-align: right;\">\n",
       "      <th></th>\n",
       "      <th>id</th>\n",
       "      <th>first_name</th>\n",
       "      <th>last_name</th>\n",
       "      <th>email</th>\n",
       "      <th>gender</th>\n",
       "      <th>ip_address</th>\n",
       "    </tr>\n",
       "  </thead>\n",
       "  <tbody>\n",
       "    <tr>\n",
       "      <th>0</th>\n",
       "      <td>1</td>\n",
       "      <td>Merle</td>\n",
       "      <td>Draisey</td>\n",
       "      <td>mdraisey0@squarespace.com</td>\n",
       "      <td>Bigender</td>\n",
       "      <td>20.70.199.51</td>\n",
       "    </tr>\n",
       "    <tr>\n",
       "      <th>1</th>\n",
       "      <td>2</td>\n",
       "      <td>Casey</td>\n",
       "      <td>Sheach</td>\n",
       "      <td>csheach1@deviantart.com</td>\n",
       "      <td>Male</td>\n",
       "      <td>226.126.229.167</td>\n",
       "    </tr>\n",
       "    <tr>\n",
       "      <th>2</th>\n",
       "      <td>3</td>\n",
       "      <td>Darya</td>\n",
       "      <td>Leivers</td>\n",
       "      <td>dleivers2@imgur.com</td>\n",
       "      <td>Female</td>\n",
       "      <td>247.209.88.235</td>\n",
       "    </tr>\n",
       "    <tr>\n",
       "      <th>3</th>\n",
       "      <td>4</td>\n",
       "      <td>Fancie</td>\n",
       "      <td>Casebourne</td>\n",
       "      <td>fcasebourne3@g.co</td>\n",
       "      <td>Female</td>\n",
       "      <td>172.34.162.239</td>\n",
       "    </tr>\n",
       "    <tr>\n",
       "      <th>4</th>\n",
       "      <td>5</td>\n",
       "      <td>Jenilee</td>\n",
       "      <td>Vsanelli</td>\n",
       "      <td>jvsanelli4@fc2.com</td>\n",
       "      <td>Female</td>\n",
       "      <td>200.104.246.2</td>\n",
       "    </tr>\n",
       "    <tr>\n",
       "      <th>...</th>\n",
       "      <td>...</td>\n",
       "      <td>...</td>\n",
       "      <td>...</td>\n",
       "      <td>...</td>\n",
       "      <td>...</td>\n",
       "      <td>...</td>\n",
       "    </tr>\n",
       "    <tr>\n",
       "      <th>995</th>\n",
       "      <td>996</td>\n",
       "      <td>Lutero</td>\n",
       "      <td>Yurov</td>\n",
       "      <td>lyurovrn@un.org</td>\n",
       "      <td>Male</td>\n",
       "      <td>95.146.16.187</td>\n",
       "    </tr>\n",
       "    <tr>\n",
       "      <th>996</th>\n",
       "      <td>997</td>\n",
       "      <td>Verla</td>\n",
       "      <td>Peery</td>\n",
       "      <td>vpeeryro@com.com</td>\n",
       "      <td>Female</td>\n",
       "      <td>172.90.253.234</td>\n",
       "    </tr>\n",
       "    <tr>\n",
       "      <th>997</th>\n",
       "      <td>998</td>\n",
       "      <td>Fran</td>\n",
       "      <td>Langran</td>\n",
       "      <td>flangranrp@ft.com</td>\n",
       "      <td>Male</td>\n",
       "      <td>123.179.99.154</td>\n",
       "    </tr>\n",
       "    <tr>\n",
       "      <th>998</th>\n",
       "      <td>999</td>\n",
       "      <td>Gabbi</td>\n",
       "      <td>Cummins</td>\n",
       "      <td>gcumminsrq@jugem.jp</td>\n",
       "      <td>Female</td>\n",
       "      <td>190.13.174.159</td>\n",
       "    </tr>\n",
       "    <tr>\n",
       "      <th>999</th>\n",
       "      <td>1000</td>\n",
       "      <td>Gloriane</td>\n",
       "      <td>Marc</td>\n",
       "      <td>gmarcrr@businessweek.com</td>\n",
       "      <td>Female</td>\n",
       "      <td>139.87.192.32</td>\n",
       "    </tr>\n",
       "  </tbody>\n",
       "</table>\n",
       "<p>1000 rows × 6 columns</p>\n",
       "</div>"
      ],
      "text/plain": [
       "       id first_name   last_name                      email    gender  \\\n",
       "0       1      Merle     Draisey  mdraisey0@squarespace.com  Bigender   \n",
       "1       2      Casey      Sheach    csheach1@deviantart.com      Male   \n",
       "2       3      Darya     Leivers        dleivers2@imgur.com    Female   \n",
       "3       4     Fancie  Casebourne          fcasebourne3@g.co    Female   \n",
       "4       5    Jenilee    Vsanelli         jvsanelli4@fc2.com    Female   \n",
       "..    ...        ...         ...                        ...       ...   \n",
       "995   996     Lutero       Yurov            lyurovrn@un.org      Male   \n",
       "996   997      Verla       Peery           vpeeryro@com.com    Female   \n",
       "997   998       Fran     Langran          flangranrp@ft.com      Male   \n",
       "998   999      Gabbi     Cummins        gcumminsrq@jugem.jp    Female   \n",
       "999  1000   Gloriane        Marc   gmarcrr@businessweek.com    Female   \n",
       "\n",
       "          ip_address  \n",
       "0       20.70.199.51  \n",
       "1    226.126.229.167  \n",
       "2     247.209.88.235  \n",
       "3     172.34.162.239  \n",
       "4      200.104.246.2  \n",
       "..               ...  \n",
       "995    95.146.16.187  \n",
       "996   172.90.253.234  \n",
       "997   123.179.99.154  \n",
       "998   190.13.174.159  \n",
       "999    139.87.192.32  \n",
       "\n",
       "[1000 rows x 6 columns]"
      ]
     },
     "execution_count": 21,
     "metadata": {},
     "output_type": "execute_result"
    }
   ],
   "source": [
    "# Reading excel file\n",
    "# read() method is used to read the excel file\n",
    "data = pd.read_excel(\"https://raw.githubusercontent.com/yash240990/Python/master/sampleExcelData.xlsx\")\n",
    "data"
   ]
  },
  {
   "cell_type": "code",
   "execution_count": 22,
   "metadata": {},
   "outputs": [
    {
     "data": {
      "text/plain": [
       "['data', 'Sheet2']"
      ]
     },
     "execution_count": 22,
     "metadata": {},
     "output_type": "execute_result"
    }
   ],
   "source": [
    "excelFile = pd.ExcelFile(\"https://raw.githubusercontent.com/yash240990/Python/master/sampleExcelData.xlsx\")\n",
    "excelFile.sheet_names"
   ]
  },
  {
   "cell_type": "code",
   "execution_count": 23,
   "metadata": {},
   "outputs": [
    {
     "data": {
      "text/html": [
       "<div>\n",
       "<style scoped>\n",
       "    .dataframe tbody tr th:only-of-type {\n",
       "        vertical-align: middle;\n",
       "    }\n",
       "\n",
       "    .dataframe tbody tr th {\n",
       "        vertical-align: top;\n",
       "    }\n",
       "\n",
       "    .dataframe thead th {\n",
       "        text-align: right;\n",
       "    }\n",
       "</style>\n",
       "<table border=\"1\" class=\"dataframe\">\n",
       "  <thead>\n",
       "    <tr style=\"text-align: right;\">\n",
       "      <th></th>\n",
       "      <th>first_name</th>\n",
       "      <th>last_name</th>\n",
       "      <th>email</th>\n",
       "    </tr>\n",
       "  </thead>\n",
       "  <tbody>\n",
       "    <tr>\n",
       "      <th>0</th>\n",
       "      <td>Merle</td>\n",
       "      <td>Draisey</td>\n",
       "      <td>mdraisey0@squarespace.com</td>\n",
       "    </tr>\n",
       "    <tr>\n",
       "      <th>1</th>\n",
       "      <td>Casey</td>\n",
       "      <td>Sheach</td>\n",
       "      <td>csheach1@deviantart.com</td>\n",
       "    </tr>\n",
       "    <tr>\n",
       "      <th>2</th>\n",
       "      <td>Darya</td>\n",
       "      <td>Leivers</td>\n",
       "      <td>dleivers2@imgur.com</td>\n",
       "    </tr>\n",
       "    <tr>\n",
       "      <th>3</th>\n",
       "      <td>Fancie</td>\n",
       "      <td>Casebourne</td>\n",
       "      <td>fcasebourne3@g.co</td>\n",
       "    </tr>\n",
       "    <tr>\n",
       "      <th>4</th>\n",
       "      <td>Jenilee</td>\n",
       "      <td>Vsanelli</td>\n",
       "      <td>jvsanelli4@fc2.com</td>\n",
       "    </tr>\n",
       "    <tr>\n",
       "      <th>5</th>\n",
       "      <td>Charmian</td>\n",
       "      <td>Drinkhall</td>\n",
       "      <td>cdrinkhall5@theglobeandmail.com</td>\n",
       "    </tr>\n",
       "    <tr>\n",
       "      <th>6</th>\n",
       "      <td>Janessa</td>\n",
       "      <td>Kivell</td>\n",
       "      <td>jkivell6@linkedin.com</td>\n",
       "    </tr>\n",
       "    <tr>\n",
       "      <th>7</th>\n",
       "      <td>Mirna</td>\n",
       "      <td>Heinsh</td>\n",
       "      <td>mheinsh7@spotify.com</td>\n",
       "    </tr>\n",
       "    <tr>\n",
       "      <th>8</th>\n",
       "      <td>Darby</td>\n",
       "      <td>Lax</td>\n",
       "      <td>dlax8@people.com.cn</td>\n",
       "    </tr>\n",
       "    <tr>\n",
       "      <th>9</th>\n",
       "      <td>Meryl</td>\n",
       "      <td>Riehm</td>\n",
       "      <td>mriehm9@princeton.edu</td>\n",
       "    </tr>\n",
       "    <tr>\n",
       "      <th>10</th>\n",
       "      <td>Anne</td>\n",
       "      <td>Brody</td>\n",
       "      <td>abrodya@sphinn.com</td>\n",
       "    </tr>\n",
       "    <tr>\n",
       "      <th>11</th>\n",
       "      <td>Puff</td>\n",
       "      <td>Langsbury</td>\n",
       "      <td>plangsburyb@canalblog.com</td>\n",
       "    </tr>\n",
       "    <tr>\n",
       "      <th>12</th>\n",
       "      <td>Tina</td>\n",
       "      <td>Gregoli</td>\n",
       "      <td>tgregolic@sfgate.com</td>\n",
       "    </tr>\n",
       "    <tr>\n",
       "      <th>13</th>\n",
       "      <td>Barbie</td>\n",
       "      <td>Dahlen</td>\n",
       "      <td>bdahlend@narod.ru</td>\n",
       "    </tr>\n",
       "    <tr>\n",
       "      <th>14</th>\n",
       "      <td>Andeee</td>\n",
       "      <td>Dobrovolski</td>\n",
       "      <td>adobrovolskie@networkadvertising.org</td>\n",
       "    </tr>\n",
       "    <tr>\n",
       "      <th>15</th>\n",
       "      <td>Ainsley</td>\n",
       "      <td>Friman</td>\n",
       "      <td>afrimanf@irs.gov</td>\n",
       "    </tr>\n",
       "    <tr>\n",
       "      <th>16</th>\n",
       "      <td>Bil</td>\n",
       "      <td>Shalcros</td>\n",
       "      <td>bshalcrosg@dion.ne.jp</td>\n",
       "    </tr>\n",
       "    <tr>\n",
       "      <th>17</th>\n",
       "      <td>Raimund</td>\n",
       "      <td>Outridge</td>\n",
       "      <td>routridgeh@lulu.com</td>\n",
       "    </tr>\n",
       "    <tr>\n",
       "      <th>18</th>\n",
       "      <td>Whitby</td>\n",
       "      <td>Millward</td>\n",
       "      <td>wmillwardi@ask.com</td>\n",
       "    </tr>\n",
       "    <tr>\n",
       "      <th>19</th>\n",
       "      <td>Rob</td>\n",
       "      <td>Boarder</td>\n",
       "      <td>rboarderj@51.la</td>\n",
       "    </tr>\n",
       "    <tr>\n",
       "      <th>20</th>\n",
       "      <td>Nicky</td>\n",
       "      <td>Curthoys</td>\n",
       "      <td>ncurthoysk@pbs.org</td>\n",
       "    </tr>\n",
       "  </tbody>\n",
       "</table>\n",
       "</div>"
      ],
      "text/plain": [
       "   first_name    last_name                                 email\n",
       "0       Merle      Draisey             mdraisey0@squarespace.com\n",
       "1       Casey       Sheach               csheach1@deviantart.com\n",
       "2       Darya      Leivers                   dleivers2@imgur.com\n",
       "3      Fancie   Casebourne                     fcasebourne3@g.co\n",
       "4     Jenilee     Vsanelli                    jvsanelli4@fc2.com\n",
       "5    Charmian    Drinkhall       cdrinkhall5@theglobeandmail.com\n",
       "6     Janessa       Kivell                 jkivell6@linkedin.com\n",
       "7       Mirna       Heinsh                  mheinsh7@spotify.com\n",
       "8       Darby          Lax                   dlax8@people.com.cn\n",
       "9       Meryl        Riehm                 mriehm9@princeton.edu\n",
       "10       Anne        Brody                    abrodya@sphinn.com\n",
       "11       Puff    Langsbury             plangsburyb@canalblog.com\n",
       "12       Tina      Gregoli                  tgregolic@sfgate.com\n",
       "13     Barbie       Dahlen                     bdahlend@narod.ru\n",
       "14     Andeee  Dobrovolski  adobrovolskie@networkadvertising.org\n",
       "15    Ainsley       Friman                      afrimanf@irs.gov\n",
       "16        Bil     Shalcros                 bshalcrosg@dion.ne.jp\n",
       "17    Raimund     Outridge                   routridgeh@lulu.com\n",
       "18     Whitby     Millward                    wmillwardi@ask.com\n",
       "19        Rob      Boarder                       rboarderj@51.la\n",
       "20      Nicky     Curthoys                    ncurthoysk@pbs.org"
      ]
     },
     "execution_count": 23,
     "metadata": {},
     "output_type": "execute_result"
    }
   ],
   "source": [
    "data = pd.read_excel(excelFile, sheet_name='Sheet2')\n",
    "data"
   ]
  }
 ],
 "metadata": {
  "kernelspec": {
   "display_name": "Python 3",
   "language": "python",
   "name": "python3"
  },
  "language_info": {
   "codemirror_mode": {
    "name": "ipython",
    "version": 3
   },
   "file_extension": ".py",
   "mimetype": "text/x-python",
   "name": "python",
   "nbconvert_exporter": "python",
   "pygments_lexer": "ipython3",
   "version": "3.13.1"
  }
 },
 "nbformat": 4,
 "nbformat_minor": 2
}
