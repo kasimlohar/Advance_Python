{
    "cells": [
        {
            "cell_type": "code",
            "execution_count": 55,
            "metadata": {},
            "outputs": [],
            "source": [
                "# Advance Python - 10 Jan 2025\n",
                "# Data Science\n",
                "# Numpy Part - 1\n",
                " \n",
                "# What is data science?\n",
                "# Data science is the study of data to extract meaningful insights for business. \n",
                "# It is a multidisciplinary approach that combines principles and practices from the \n",
                "# fields of mathematics, statistics, artificial intelligence, and computer engineering \n",
                "# to analyze large amounts of data. This analysis helps data scientists to ask and answer questions\n",
                "# like what happened, why it happened, what will happen, and what can be done with the results.\n",
                " \n",
                " \n",
                "# Data Science is about data gathering, analysis and decision-making.\n",
                " \n",
                "# Data Science is about finding patterns in data, through analysis, and make future predictions.\n",
                " \n",
                "# By using Data Science, companies are able to make:\n",
                "#    Better decisions (should we choose A or B)\n",
                "#    Predictive analysis (what will happen next?)\n",
                "#    Pattern discoveries (find pattern, or maybe hidden information in the data)\n",
                " \n",
                "# Where is Data Science Needed?\n",
                " \n",
                "# Data Science is used in many industries in the world today, e.g. banking,\n",
                "# consultancy, healthcare, and manufacturing."
            ]
        },
        {
            "cell_type": "code",
            "execution_count": 56,
            "metadata": {},
            "outputs": [],
            "source": [
                "# Numpy\n",
                " \n",
                "# NumPy is a Python library used for working with arrays.\n",
                " \n",
                "# It also has functions for working in domain of linear algebra, fourier transform,\n",
                "# and matrices.\n",
                " \n",
                "# NumPy was created in 2005 by Travis Oliphant. It is an open source project and you\n",
                "# can use it freely.\n",
                " \n",
                "# NumPy stands for Numerical Python."
            ]
        },
        {
            "cell_type": "code",
            "execution_count": 57,
            "metadata": {},
            "outputs": [
                {
                    "name": "stdout",
                    "output_type": "stream",
                    "text": [
                        "[1, 2, 3, 4, 5, 1, 2, 3, 4, 5]\n",
                        "2\n",
                        "4\n",
                        "6\n",
                        "8\n",
                        "10\n"
                    ]
                }
            ],
            "source": [
                "import numpy as np\n",
                "\n",
                "list1 = [1, 2, 3, 4, 5]\n",
                "print(list1 * 2)\n",
                "\n",
                "for i in list1:\n",
                "    print(i * 2)\n",
                "\n",
                "\n"
            ]
        },
        {
            "cell_type": "code",
            "execution_count": 58,
            "metadata": {},
            "outputs": [
                {
                    "name": "stdout",
                    "output_type": "stream",
                    "text": [
                        "[ 2  4  6  8 10]\n"
                    ]
                }
            ],
            "source": [
                "arr = np.array([1, 2, 3, 4, 5])\n",
                "print(arr * 2)\n"
            ]
        },
        {
            "cell_type": "code",
            "execution_count": 59,
            "metadata": {},
            "outputs": [
                {
                    "name": "stdout",
                    "output_type": "stream",
                    "text": [
                        "['1' '2' '3' 'Python' 'True' '3.14']\n"
                    ]
                }
            ],
            "source": [
                "# array is a collection of similar data type elements.\n",
                "arr = np.array([1, 2, 3,'Python', True, 3.14])\n",
                "print(arr)\n"
            ]
        },
        {
            "cell_type": "code",
            "execution_count": 60,
            "metadata": {},
            "outputs": [
                {
                    "name": "stdout",
                    "output_type": "stream",
                    "text": [
                        "['1' '2' '3' 'Python' 'True' '3.14']\n"
                    ]
                }
            ],
            "source": [
                "# Numpy Array()\n",
                "arr = np.array([1, 2, 3,'Python', True, 3.14])\n",
                "print(arr)\n"
            ]
        },
        {
            "cell_type": "code",
            "execution_count": 61,
            "metadata": {},
            "outputs": [
                {
                    "name": "stdout",
                    "output_type": "stream",
                    "text": [
                        "(6,)\n"
                    ]
                }
            ],
            "source": [
                "# shape Property\n",
                "# The shape property is used to dimensions of an array.\n",
                "\n",
                "# for 1D array shape return (n,)\n",
                "# where n is the number of elements \n",
                "\n",
                "# for 1D array shape return (n,m)\n",
                "# where n is the number of rows and m is the number of columns\n",
                "\n",
                "print(arr.shape)"
            ]
        },
        {
            "cell_type": "code",
            "execution_count": 62,
            "metadata": {},
            "outputs": [
                {
                    "name": "stdout",
                    "output_type": "stream",
                    "text": [
                        "1\n",
                        "5\n",
                        "[2 3 4]\n",
                        "[1 2 3 4]\n",
                        "[2 3 4 5]\n",
                        "[1 2 3 4 5]\n",
                        "[1 3 5]\n"
                    ]
                }
            ],
            "source": [
                "# Indexing and slicing\n",
                "\n",
                "arr = np.array([1, 2, 3, 4, 5])\n",
                "\n",
                "# 1  2  3  4  5\n",
                "# 0  1  2  3  4\n",
                "# -5 -4 -3 -2 -1\n",
                "\n",
                "\n",
                "print(arr[0])\n",
                "print(arr[-1])\n",
                "print(arr[1:4])\n",
                "print(arr[:4])\n",
                "print(arr[1:])\n",
                "print(arr[:])\n",
                "print(arr[::2])"
            ]
        },
        {
            "cell_type": "code",
            "execution_count": 63,
            "metadata": {},
            "outputs": [
                {
                    "name": "stdout",
                    "output_type": "stream",
                    "text": [
                        "[[1 2 3]\n",
                        " [4 5 6]\n",
                        " [7 8 9]]\n",
                        "(3, 3)\n",
                        "[[ 1  2  3  4]\n",
                        " [ 5  6  7  8]\n",
                        " [ 9 10 11 12]]\n",
                        "(3, 4)\n",
                        "[[ 1  2]\n",
                        " [ 3  4]\n",
                        " [ 5  6]\n",
                        " [ 7  8]\n",
                        " [ 9 10]]\n",
                        "(5, 2)\n"
                    ]
                }
            ],
            "source": [
                "# 2D Array\n",
                "twod = np.array([[1, 2, 3], [4, 5, 6], [7, 8, 9]])\n",
                "print(twod)\n",
                "print(twod.shape)\n",
                "\n",
                "\n",
                "# 3 X 4 matrix\n",
                "\n",
                "threed = np.array([[1, 2, 3, 4], [5, 6, 7, 8], [9, 10, 11, 12]])\n",
                "print(threed)\n",
                "print(threed.shape)\n",
                "\n",
                "\n",
                "# 5 x 2 matirx\n",
                "\n",
                "fivex2 = np.array([[1, 2], [3, 4], [5, 6], [7, 8], [9, 10]])\n",
                "print(fivex2)\n",
                "print(fivex2.shape)"
            ]
        },
        {
            "cell_type": "code",
            "execution_count": 64,
            "metadata": {},
            "outputs": [
                {
                    "name": "stdout",
                    "output_type": "stream",
                    "text": [
                        "[[1 2 3]\n",
                        " [4 5 6]\n",
                        " [7 8 9]]\n",
                        "3\n",
                        "[4 5 6]\n",
                        "[2 5 8]\n"
                    ]
                }
            ],
            "source": [
                "# Indexing in 2D array\n",
                "\n",
                "twod = np.array([[1, 2, 3], [4, 5, 6], [7, 8, 9]])\n",
                "print(twod)\n",
                "print(twod[0, 2])\n",
                "# print second row \n",
                "print(twod[1,:])\n",
                "\n",
                "# print second column\n",
                "print(twod[:,1])"
            ]
        },
        {
            "cell_type": "code",
            "execution_count": 65,
            "metadata": {},
            "outputs": [
                {
                    "name": "stdout",
                    "output_type": "stream",
                    "text": [
                        "int64\n",
                        "8\n",
                        "2 bytes\n",
                        "4 bytes\n"
                    ]
                }
            ],
            "source": [
                "# dtype property\n",
                "# The dtype property is used to return the data type of the array elements.\n",
                "\n",
                "arr = np.array([1, 2, 3, 4, 5])\n",
                "print(arr.dtype)\n",
                "print(arr.itemsize)  # int64 : memory size of one array element is 8 bytes\n",
                "\n",
                "# int64 : memory size of one array element is bits.  [8 bytes]\n",
                "\n",
                "arr = np.array([1, 2, 3, 4, 5], dtype='i2')\n",
                "print(arr.itemsize, 'bytes') #2 bytes --> 16 bits\n",
                "\n",
                "arr = np.array([1, 2, 3, 4, 5], dtype='i4')\n",
                "print(arr.itemsize, 'bytes') #4 bytes --> 32 bits\n"
            ]
        },
        {
            "cell_type": "code",
            "execution_count": 66,
            "metadata": {},
            "outputs": [
                {
                    "name": "stdout",
                    "output_type": "stream",
                    "text": [
                        "[10 20 30 40 50]\n",
                        "[10 20 30 40 50]\n",
                        "[100  20  30  40  50]\n",
                        "[10 20 30 40 50]\n"
                    ]
                }
            ],
            "source": [
                "# copy() vs view()\n",
                "\n",
                "#in copy() if you make any changes in org array, it won't reflect in copied array\n",
                "#in view() if you make any changes in copy array, it will reflect in orginal array\n",
                "\n",
                "org_arr = np.array([10, 20, 30, 40, 50])\n",
                "print(org_arr)\n",
                "\n",
                "copied_arr = org_arr.copy()\n",
                "print(copied_arr)\n",
                "\n",
                "copied_arr[0] = 100\n",
                "print(copied_arr)\n",
                "print(org_arr)"
            ]
        },
        {
            "cell_type": "code",
            "execution_count": 67,
            "metadata": {},
            "outputs": [
                {
                    "name": "stdout",
                    "output_type": "stream",
                    "text": [
                        "[10 20 30 40 50]\n",
                        "[10 20 30 40 50]\n",
                        "[100  20  30  40  50]\n",
                        "[100  20  30  40  50]\n"
                    ]
                }
            ],
            "source": [
                "# view() if you make any changes in copy array, it will reflect in orginal array\n",
                "\n",
                "org_arr = np.array([10, 20, 30, 40, 50])\n",
                "print(org_arr)\n",
                "\n",
                "copied_arr = org_arr.view()\n",
                "print(copied_arr)\n",
                "\n",
                "copied_arr[0] = 100\n",
                "print(copied_arr)\n",
                "print(org_arr)"
            ]
        },
        {
            "cell_type": "code",
            "execution_count": 68,
            "metadata": {},
            "outputs": [
                {
                    "name": "stdout",
                    "output_type": "stream",
                    "text": [
                        "(12,)\n",
                        "[[ 1  2  3  4  5  6]\n",
                        " [ 7  8  9 10 11 12]]\n"
                    ]
                }
            ],
            "source": [
                "# reshape() : used to change the dimensions of an array\n",
                "# 1d --> 2d or 2d --> 1d\n",
                "\n",
                "# covert 1d into 2d \n",
                "\n",
                "arr = np.array([1, 2, 3, 4, 5, 6, 7, 8, 9, 10, 11, 12])\n",
                "print(arr.shape)  # 12 --> 2x6, 3x4, 4x3, 6x2, 12x1\n",
                "\n",
                "arr = arr.reshape(2, 6)\n",
                "print(arr)\n"
            ]
        },
        {
            "cell_type": "code",
            "execution_count": 69,
            "metadata": {},
            "outputs": [
                {
                    "name": "stdout",
                    "output_type": "stream",
                    "text": [
                        "(3, 3)\n",
                        "[1 2 3 4 5 6 7 8 9]\n"
                    ]
                }
            ],
            "source": [
                "# covert 2d into 1d\n",
                "\n",
                "arr = np.array([[1, 2, 3], [4, 5, 6], [7, 8, 9]])\n",
                "print(arr.shape)  # 3x3\n",
                "\n",
                "\n",
                "arr = arr.reshape(9)\n",
                "print(arr)"
            ]
        },
        {
            "cell_type": "code",
            "execution_count": 70,
            "metadata": {},
            "outputs": [
                {
                    "name": "stdout",
                    "output_type": "stream",
                    "text": [
                        "(3, 3)\n",
                        "[1 2 3 4 5 6 7 8 9]\n"
                    ]
                }
            ],
            "source": [
                "#  another way to covert 2d into 1d\n",
                "\n",
                "arr = np.array([[1, 2, 3], [4, 5, 6], [7, 8, 9]])\n",
                "print(arr.shape)  # 3x3\n",
                "\n",
                "\n",
                "arr = arr.reshape(-1)\n",
                "print(arr)"
            ]
        },
        {
            "cell_type": "code",
            "execution_count": 71,
            "metadata": {},
            "outputs": [
                {
                    "name": "stdout",
                    "output_type": "stream",
                    "text": [
                        "(3, 3)\n",
                        "[1 2 3 4 5 6 7 8 9]\n"
                    ]
                }
            ],
            "source": [
                "#  another way to covert 2d into 1d\n",
                "\n",
                "arr = np.array([[1, 2, 3], [4, 5, 6], [7, 8, 9]])\n",
                "print(arr.shape)  # 3x3\n",
                "\n",
                "\n",
                "arr = arr.flatten()\n",
                "print(arr)"
            ]
        },
        {
            "cell_type": "code",
            "execution_count": 72,
            "metadata": {},
            "outputs": [
                {
                    "name": "stdout",
                    "output_type": "stream",
                    "text": [
                        "[False  True  True  True  True False  True]\n",
                        "[12 14 54 34  6]\n"
                    ]
                }
            ],
            "source": [
                "# Fliter an array \n",
                "arr = np.array([23, 12, 14, 54, 34, 89, 6])\n",
                "op = arr%2 == 0\n",
                "print(op) # Boolean Masking \n",
                "print(arr[op])"
            ]
        },
        {
            "cell_type": "code",
            "execution_count": 73,
            "metadata": {},
            "outputs": [
                {
                    "name": "stdout",
                    "output_type": "stream",
                    "text": [
                        "[23 12 14 54 34 89  6]\n"
                    ]
                }
            ],
            "source": [
                "arr = np.array([23, 12, 14, 54, 34, 89, 6])\n",
                "res = arr > 5\n",
                "print(arr[res])"
            ]
        },
        {
            "cell_type": "code",
            "execution_count": 74,
            "metadata": {},
            "outputs": [
                {
                    "name": "stdout",
                    "output_type": "stream",
                    "text": [
                        "[23 12 14 34  6]\n"
                    ]
                }
            ],
            "source": [
                "arr = np.array([23, 12, 14, 54, 34, 89, 6])\n",
                "res = (arr > 5) & (arr < 50)\n",
                "print(arr[res])"
            ]
        },
        {
            "cell_type": "code",
            "execution_count": 75,
            "metadata": {},
            "outputs": [
                {
                    "name": "stdout",
                    "output_type": "stream",
                    "text": [
                        "[ 0  3  0  5  0 67  0 25  0]\n"
                    ]
                }
            ],
            "source": [
                "# Modify element using boolen indexing\n",
                "arr = np.array([12,3,4,5,32,67,52,25,50])\n",
                "arr[arr%2 == 0] = 0\n",
                "print(arr)"
            ]
        },
        {
            "cell_type": "code",
            "execution_count": 76,
            "metadata": {},
            "outputs": [
                {
                    "name": "stdout",
                    "output_type": "stream",
                    "text": [
                        "(array([3, 4, 6, 7]),)\n",
                        "[ 7  8  9 10]\n"
                    ]
                }
            ],
            "source": [
                "# where() : used to return the index of the elements where the condition is True\n",
                "arr = np.array([1,4,2,7,8,3,9,10,2,4])  \n",
                "\n",
                "res = np.where(arr>5)\n",
                "print(res)\n",
                "print(arr[res])"
            ]
        },
        {
            "cell_type": "code",
            "execution_count": 77,
            "metadata": {},
            "outputs": [
                {
                    "name": "stdout",
                    "output_type": "stream",
                    "text": [
                        "[1 2 3 4 5 6]\n"
                    ]
                }
            ],
            "source": [
                "# concantenate() : used to join two or more arrays\n",
                "\n",
                "arr1 = np.array([1, 2, 3])\n",
                "arr2 = np.array([4, 5, 6])\n",
                "arr = np.concatenate((arr1, arr2))\n",
                "print(arr)"
            ]
        },
        {
            "cell_type": "code",
            "execution_count": 78,
            "metadata": {},
            "outputs": [
                {
                    "name": "stdout",
                    "output_type": "stream",
                    "text": [
                        "[[1 2]\n",
                        " [3 4]\n",
                        " [5 6]\n",
                        " [7 8]]\n"
                    ]
                }
            ],
            "source": [
                "arr1 = np.array([[1, 2], [3, 4]])\n",
                "arr2 = np.array([[5, 6], [7, 8]])\n",
                "arr = np.concatenate((arr1, arr2))\n",
                "print(arr)"
            ]
        },
        {
            "cell_type": "code",
            "execution_count": 79,
            "metadata": {},
            "outputs": [
                {
                    "name": "stdout",
                    "output_type": "stream",
                    "text": [
                        "[array([1, 2, 3]), array([4, 5]), array([6, 7])]\n"
                    ]
                }
            ],
            "source": [
                "# array_split(arrayName, splitValue) : used to split an array into multiple sub-arrays\n",
                "\n",
                "arr = np.array([1, 2, 3, 4, 5, 6, 7])\n",
                "res = np.array_split(arr, 3)\n",
                "print(res)"
            ]
        },
        {
            "cell_type": "code",
            "execution_count": 80,
            "metadata": {},
            "outputs": [
                {
                    "name": "stdout",
                    "output_type": "stream",
                    "text": [
                        "[ 6 12 14 23 34 54 89]\n"
                    ]
                }
            ],
            "source": [
                "# sorting of an array\n",
                "# sort() : used to sort an array\n",
                "\n",
                "arr = np.array([23, 12, 14, 54, 34, 89, 6])\n",
                "print(np.sort(arr))  # by default ascending order"
            ]
        },
        {
            "cell_type": "code",
            "execution_count": 81,
            "metadata": {},
            "outputs": [
                {
                    "name": "stdout",
                    "output_type": "stream",
                    "text": [
                        "[89 54 34 23 14 12  6]\n"
                    ]
                }
            ],
            "source": [
                "arr = np.array([23, 12, 14, 54, 34, 89, 6])\n",
                "print(np.sort(arr)[::-1])  # by default descending order"
            ]
        },
        {
            "cell_type": "code",
            "execution_count": 82,
            "metadata": {},
            "outputs": [
                {
                    "name": "stdout",
                    "output_type": "stream",
                    "text": [
                        "[0. 0. 0. 0. 0.]\n"
                    ]
                }
            ],
            "source": [
                "# zeros() ones() full() sum() \n",
                "\n",
                "# zeros() : used to create an array with zeros\n",
                "# defualt data type is float\n",
                "\n",
                "#Id \n",
                "arr = np.zeros(5)\n",
                "print(arr)"
            ]
        },
        {
            "cell_type": "code",
            "execution_count": 83,
            "metadata": {},
            "outputs": [
                {
                    "name": "stdout",
                    "output_type": "stream",
                    "text": [
                        "[0 0 0 0 0]\n"
                    ]
                }
            ],
            "source": [
                "arr = np.zeros(5, dtype='i')\n",
                "print(arr)"
            ]
        },
        {
            "cell_type": "code",
            "execution_count": 84,
            "metadata": {},
            "outputs": [
                {
                    "name": "stdout",
                    "output_type": "stream",
                    "text": [
                        "[[0 0 0]\n",
                        " [0 0 0]]\n"
                    ]
                }
            ],
            "source": [
                "arr = np.zeros((2, 3), dtype = 'i')\n",
                "print(arr)"
            ]
        },
        {
            "cell_type": "code",
            "execution_count": 85,
            "metadata": {},
            "outputs": [
                {
                    "name": "stdout",
                    "output_type": "stream",
                    "text": [
                        "[3 3 3 3 3]\n"
                    ]
                }
            ],
            "source": [
                "# full() : used to create an array with a specified value\n",
                "\n",
                "x = np.full(5, 3)\n",
                "print(x)"
            ]
        },
        {
            "cell_type": "code",
            "execution_count": 86,
            "metadata": {},
            "outputs": [
                {
                    "name": "stdout",
                    "output_type": "stream",
                    "text": [
                        "[[26 26 26]\n",
                        " [26 26 26]\n",
                        " [26 26 26]\n",
                        " [26 26 26]\n",
                        " [26 26 26]]\n"
                    ]
                }
            ],
            "source": [
                "x = np.full((5, 3), 26 )\n",
                "print(x)"
            ]
        },
        {
            "cell_type": "code",
            "execution_count": 87,
            "metadata": {},
            "outputs": [
                {
                    "name": "stdout",
                    "output_type": "stream",
                    "text": [
                        "390\n"
                    ]
                }
            ],
            "source": [
                "# sum() : used to calculate the sum of the elements in an array\n",
                "\n",
                "print(x.sum())\n"
            ]
        },
        {
            "cell_type": "code",
            "execution_count": 88,
            "metadata": {},
            "outputs": [
                {
                    "name": "stdout",
                    "output_type": "stream",
                    "text": [
                        "43\n"
                    ]
                }
            ],
            "source": [
                "# Numpy Random Module\n",
                "from numpy import random\n",
                "\n",
                "x = random.randint(100) # random number between 0 to 100\n",
                "print(x)"
            ]
        },
        {
            "cell_type": "code",
            "execution_count": 89,
            "metadata": {},
            "outputs": [
                {
                    "name": "stdout",
                    "output_type": "stream",
                    "text": [
                        "130\n"
                    ]
                }
            ],
            "source": [
                "x = random.randint(120, 150)\n",
                "print(x)"
            ]
        },
        {
            "cell_type": "code",
            "execution_count": 90,
            "metadata": {},
            "outputs": [
                {
                    "name": "stdout",
                    "output_type": "stream",
                    "text": [
                        "0.13664281792830923\n"
                    ]
                }
            ],
            "source": [
                "# rand() method generate a random float number between 0 and 1\n",
                "\n",
                "x = random.rand()\n",
                "print(x)"
            ]
        },
        {
            "cell_type": "code",
            "execution_count": 91,
            "metadata": {},
            "outputs": [
                {
                    "name": "stdout",
                    "output_type": "stream",
                    "text": [
                        "[37 34 15 14 66]\n"
                    ]
                }
            ],
            "source": [
                "# 1d\n",
                "\n",
                "x = random.randint(100, size=(5))\n",
                "print(x)\n"
            ]
        },
        {
            "cell_type": "code",
            "execution_count": 92,
            "metadata": {},
            "outputs": [
                {
                    "name": "stdout",
                    "output_type": "stream",
                    "text": [
                        "[[32 31 21 15]\n",
                        " [19 31 23 37]\n",
                        " [19 31 18 31]\n",
                        " [11 12 23 14]\n",
                        " [20 29 38 21]]\n"
                    ]
                }
            ],
            "source": [
                "# 2d\n",
                "\n",
                "x = random.randint(10, 40, size=(5,4))\n",
                "print(x)\n"
            ]
        },
        {
            "cell_type": "code",
            "execution_count": 93,
            "metadata": {},
            "outputs": [
                {
                    "name": "stdout",
                    "output_type": "stream",
                    "text": [
                        "[ 0  1  2  3  4  5  6  7  8  9 10 11 12 13 14 15 16 17 18 19 20 21 22 23\n",
                        " 24 25 26 27 28 29 30 31 32 33 34 35 36 37 38 39 40 41 42 43 44 45 46 47\n",
                        " 48 49]\n",
                        "[20 21 22 23 24 25 26 27 28 29]\n",
                        "[20 22 24 26 28]\n"
                    ]
                }
            ],
            "source": [
                "# numpy arange()\n",
                "# arange() : used to generate a sequence of numbers\n",
                "\n",
                "x = np.arange(50)\n",
                "print(x)\n",
                "\n",
                "\n",
                "# numpy arange(x,y)\n",
                "# arange() : used to generate a sequence of numbers (between range x to y)\n",
                "\n",
                "y = np.arange(20,30)\n",
                "print(y)\n",
                "\n",
                "# numpy arange(x,y, stepcount)\n",
                "# arange() : used to generate a sequence of numbers (between range x to y and also stepcount)\n",
                "\n",
                "y = np.arange(20,30,2)\n",
                "print(y)"
            ]
        },
        {
            "cell_type": "code",
            "execution_count": 94,
            "metadata": {},
            "outputs": [
                {
                    "name": "stdout",
                    "output_type": "stream",
                    "text": [
                        "[11 22 33 44 55]\n"
                    ]
                }
            ],
            "source": [
                "# numpy Broadcasting\n",
                "\n",
                "arr1 = np.array([1, 2, 3, 4, 5])\n",
                "arr2 = np.array([10, 20, 30, 40, 50])\n",
                "print(arr1 + arr2)"
            ]
        },
        {
            "cell_type": "code",
            "execution_count": 95,
            "metadata": {},
            "outputs": [
                {
                    "name": "stdout",
                    "output_type": "stream",
                    "text": [
                        "[3 4 5 6 7]\n"
                    ]
                }
            ],
            "source": [
                "arr1 = np.array([1, 2, 3, 4, 5])\n",
                "arr2 = np.array([2])\n",
                "print(arr1 + arr2)"
            ]
        }
    ],
    "metadata": {
        "kernelspec": {
            "display_name": "Python 3",
            "language": "python",
            "name": "python3"
        },
        "language_info": {
            "codemirror_mode": {
                "name": "ipython",
                "version": 3
            },
            "file_extension": ".py",
            "mimetype": "text/x-python",
            "name": "python",
            "nbconvert_exporter": "python",
            "pygments_lexer": "ipython3",
            "version": "3.13.1"
        }
    },
    "nbformat": 4,
    "nbformat_minor": 4
}
