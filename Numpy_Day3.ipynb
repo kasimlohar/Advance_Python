{
    "cells": [
        {
            "cell_type": "code",
            "execution_count": 30,
            "metadata": {},
            "outputs": [],
            "source": [
                "# Advance Python - 10 Jan 2025\n",
                "# Data Science\n",
                "# Numpy Part - 1\n",
                " \n",
                "# What is data science?\n",
                "# Data science is the study of data to extract meaningful insights for business. \n",
                "# It is a multidisciplinary approach that combines principles and practices from the \n",
                "# fields of mathematics, statistics, artificial intelligence, and computer engineering \n",
                "# to analyze large amounts of data. This analysis helps data scientists to ask and answer questions\n",
                "# like what happened, why it happened, what will happen, and what can be done with the results.\n",
                " \n",
                " \n",
                "# Data Science is about data gathering, analysis and decision-making.\n",
                " \n",
                "# Data Science is about finding patterns in data, through analysis, and make future predictions.\n",
                " \n",
                "# By using Data Science, companies are able to make:\n",
                "#    Better decisions (should we choose A or B)\n",
                "#    Predictive analysis (what will happen next?)\n",
                "#    Pattern discoveries (find pattern, or maybe hidden information in the data)\n",
                " \n",
                "# Where is Data Science Needed?\n",
                " \n",
                "# Data Science is used in many industries in the world today, e.g. banking,\n",
                "# consultancy, healthcare, and manufacturing."
            ]
        },
        {
            "cell_type": "code",
            "execution_count": 31,
            "metadata": {},
            "outputs": [],
            "source": [
                "# Numpy\n",
                " \n",
                "# NumPy is a Python library used for working with arrays.\n",
                " \n",
                "# It also has functions for working in domain of linear algebra, fourier transform,\n",
                "# and matrices.\n",
                " \n",
                "# NumPy was created in 2005 by Travis Oliphant. It is an open source project and you\n",
                "# can use it freely.\n",
                " \n",
                "# NumPy stands for Numerical Python."
            ]
        },
        {
            "cell_type": "code",
            "execution_count": 32,
            "metadata": {},
            "outputs": [
                {
                    "name": "stdout",
                    "output_type": "stream",
                    "text": [
                        "[1, 2, 3, 4, 5, 1, 2, 3, 4, 5]\n",
                        "2\n",
                        "4\n",
                        "6\n",
                        "8\n",
                        "10\n"
                    ]
                }
            ],
            "source": [
                "import numpy as np\n",
                "\n",
                "list1 = [1, 2, 3, 4, 5]\n",
                "print(list1 * 2)\n",
                "\n",
                "for i in list1:\n",
                "    print(i * 2)\n",
                "\n",
                "\n"
            ]
        },
        {
            "cell_type": "code",
            "execution_count": 33,
            "metadata": {},
            "outputs": [
                {
                    "name": "stdout",
                    "output_type": "stream",
                    "text": [
                        "[ 2  4  6  8 10]\n"
                    ]
                }
            ],
            "source": [
                "arr = np.array([1, 2, 3, 4, 5])\n",
                "print(arr * 2)\n"
            ]
        },
        {
            "cell_type": "code",
            "execution_count": 34,
            "metadata": {},
            "outputs": [
                {
                    "name": "stdout",
                    "output_type": "stream",
                    "text": [
                        "['1' '2' '3' 'Python' 'True' '3.14']\n"
                    ]
                }
            ],
            "source": [
                "# array is a collection of similar data type elements.\n",
                "arr = np.array([1, 2, 3,'Python', True, 3.14])\n",
                "print(arr)\n"
            ]
        },
        {
            "cell_type": "code",
            "execution_count": 35,
            "metadata": {},
            "outputs": [
                {
                    "name": "stdout",
                    "output_type": "stream",
                    "text": [
                        "['1' '2' '3' 'Python' 'True' '3.14']\n"
                    ]
                }
            ],
            "source": [
                "# Numpy Array()\n",
                "arr = np.array([1, 2, 3,'Python', True, 3.14])\n",
                "print(arr)\n"
            ]
        },
        {
            "cell_type": "code",
            "execution_count": 36,
            "metadata": {},
            "outputs": [
                {
                    "name": "stdout",
                    "output_type": "stream",
                    "text": [
                        "(6,)\n"
                    ]
                }
            ],
            "source": [
                "# shape Property\n",
                "# The shape property is used to dimensions of an array.\n",
                "\n",
                "# for 1D array shape return (n,)\n",
                "# where n is the number of elements \n",
                "\n",
                "# for 1D array shape return (n,m)\n",
                "# where n is the number of rows and m is the number of columns\n",
                "\n",
                "print(arr.shape)"
            ]
        },
        {
            "cell_type": "code",
            "execution_count": 37,
            "metadata": {},
            "outputs": [
                {
                    "name": "stdout",
                    "output_type": "stream",
                    "text": [
                        "1\n",
                        "5\n",
                        "[2 3 4]\n",
                        "[1 2 3 4]\n",
                        "[2 3 4 5]\n",
                        "[1 2 3 4 5]\n",
                        "[1 3 5]\n"
                    ]
                }
            ],
            "source": [
                "# Indexing and slicing\n",
                "\n",
                "arr = np.array([1, 2, 3, 4, 5])\n",
                "\n",
                "# 1  2  3  4  5\n",
                "# 0  1  2  3  4\n",
                "# -5 -4 -3 -2 -1\n",
                "\n",
                "\n",
                "print(arr[0])\n",
                "print(arr[-1])\n",
                "print(arr[1:4])\n",
                "print(arr[:4])\n",
                "print(arr[1:])\n",
                "print(arr[:])\n",
                "print(arr[::2])"
            ]
        },
        {
            "cell_type": "code",
            "execution_count": 38,
            "metadata": {},
            "outputs": [
                {
                    "name": "stdout",
                    "output_type": "stream",
                    "text": [
                        "[[1 2 3]\n",
                        " [4 5 6]\n",
                        " [7 8 9]]\n",
                        "(3, 3)\n",
                        "[[ 1  2  3  4]\n",
                        " [ 5  6  7  8]\n",
                        " [ 9 10 11 12]]\n",
                        "(3, 4)\n",
                        "[[ 1  2]\n",
                        " [ 3  4]\n",
                        " [ 5  6]\n",
                        " [ 7  8]\n",
                        " [ 9 10]]\n",
                        "(5, 2)\n"
                    ]
                }
            ],
            "source": [
                "# 2D Array\n",
                "twod = np.array([[1, 2, 3], [4, 5, 6], [7, 8, 9]])\n",
                "print(twod)\n",
                "print(twod.shape)\n",
                "\n",
                "\n",
                "# 3 X 4 matrix\n",
                "\n",
                "threed = np.array([[1, 2, 3, 4], [5, 6, 7, 8], [9, 10, 11, 12]])\n",
                "print(threed)\n",
                "print(threed.shape)\n",
                "\n",
                "\n",
                "# 5 x 2 matirx\n",
                "\n",
                "fivex2 = np.array([[1, 2], [3, 4], [5, 6], [7, 8], [9, 10]])\n",
                "print(fivex2)\n",
                "print(fivex2.shape)"
            ]
        },
        {
            "cell_type": "code",
            "execution_count": 39,
            "metadata": {},
            "outputs": [
                {
                    "name": "stdout",
                    "output_type": "stream",
                    "text": [
                        "[[1 2 3]\n",
                        " [4 5 6]\n",
                        " [7 8 9]]\n",
                        "3\n",
                        "[4 5 6]\n",
                        "[2 5 8]\n"
                    ]
                }
            ],
            "source": [
                "# Indexing in 2D array\n",
                "\n",
                "twod = np.array([[1, 2, 3], [4, 5, 6], [7, 8, 9]])\n",
                "print(twod)\n",
                "print(twod[0, 2])\n",
                "# print second row \n",
                "print(twod[1,:])\n",
                "\n",
                "# print second column\n",
                "print(twod[:,1])"
            ]
        },
        {
            "cell_type": "code",
            "execution_count": 40,
            "metadata": {},
            "outputs": [
                {
                    "name": "stdout",
                    "output_type": "stream",
                    "text": [
                        "int64\n",
                        "8\n",
                        "2 bytes\n",
                        "4 bytes\n"
                    ]
                }
            ],
            "source": [
                "# dtype property\n",
                "# The dtype property is used to return the data type of the array elements.\n",
                "\n",
                "arr = np.array([1, 2, 3, 4, 5])\n",
                "print(arr.dtype)\n",
                "print(arr.itemsize)  # int64 : memory size of one array element is 8 bytes\n",
                "\n",
                "# int64 : memory size of one array element is bits.  [8 bytes]\n",
                "\n",
                "arr = np.array([1, 2, 3, 4, 5], dtype='i2')\n",
                "print(arr.itemsize, 'bytes') #2 bytes --> 16 bits\n",
                "\n",
                "arr = np.array([1, 2, 3, 4, 5], dtype='i4')\n",
                "print(arr.itemsize, 'bytes') #4 bytes --> 32 bits\n"
            ]
        }
    ],
    "metadata": {
        "kernelspec": {
            "display_name": "Python 3",
            "language": "python",
            "name": "python3"
        },
        "language_info": {
            "codemirror_mode": {
                "name": "ipython",
                "version": 3
            },
            "file_extension": ".py",
            "mimetype": "text/x-python",
            "name": "python",
            "nbconvert_exporter": "python",
            "pygments_lexer": "ipython3",
            "version": "3.13.1"
        }
    },
    "nbformat": 4,
    "nbformat_minor": 4
}
