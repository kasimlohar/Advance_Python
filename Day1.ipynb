{
 "cells": [
  {
   "cell_type": "markdown",
   "metadata": {},
   "source": [
    "# Day 1 -- Advanced Python [06th Jan 2025]"
   ]
  },
  {
   "cell_type": "code",
   "execution_count": 1,
   "metadata": {},
   "outputs": [
    {
     "name": "stdout",
     "output_type": "stream",
     "text": [
      "Zipped List: [('John', 85), ('Smith', 90), ('Alex', 82), ('Tina', 93)]\n"
     ]
    }
   ],
   "source": [
    "# 1. Using zip() to combine iterables\n",
    "names = ['John', 'Smith', 'Alex', 'Tina']\n",
    "marks = [85, 90, 82, 93]\n",
    "\n",
    "# Combine names and marks using zip\n",
    "final_info = zip(names, marks)\n",
    "print(\"Zipped List:\", list(final_info))"
   ]
  },
  {
   "cell_type": "code",
   "execution_count": 2,
   "metadata": {},
   "outputs": [
    {
     "name": "stdout",
     "output_type": "stream",
     "text": [
      "Unzipped Names: ('John', 'Smith', 'Alex', 'Tina')\n",
      "Unzipped Marks: (85, 90, 82, 93)\n"
     ]
    }
   ],
   "source": [
    "# Re-create final_info for unzipping as zip() is exhausted after iteration\n",
    "final_info = [('John', 85), ('Smith', 90), ('Alex', 82), ('Tina', 93)]\n",
    "\n",
    "# Unzipping using * operator\n",
    "names_unzipped, marks_unzipped = zip(*final_info)\n",
    "print(\"Unzipped Names:\", names_unzipped)\n",
    "print(\"Unzipped Marks:\", marks_unzipped)"
   ]
  },
  {
   "cell_type": "code",
   "execution_count": 3,
   "metadata": {},
   "outputs": [
    {
     "name": "stdout",
     "output_type": "stream",
     "text": [
      "John 85\n",
      "Smith 90\n",
      "Alex 82\n",
      "Tina 93\n"
     ]
    }
   ],
   "source": [
    "# Looping through combined lists using range\n",
    "for i in range(len(names)):\n",
    "    print(f\"{names[i]} {marks[i]}\")"
   ]
  },
  {
   "cell_type": "code",
   "execution_count": 4,
   "metadata": {},
   "outputs": [
    {
     "name": "stdout",
     "output_type": "stream",
     "text": [
      "John 85\n",
      "Smith 90\n",
      "Alex 82\n",
      "Tina 93\n"
     ]
    }
   ],
   "source": [
    "# Looping through combined lists using zip\n",
    "for name, mark in zip(names, marks):\n",
    "    print(f\"{name} {mark}\")"
   ]
  },
  {
   "cell_type": "code",
   "execution_count": 5,
   "metadata": {},
   "outputs": [
    {
     "name": "stdout",
     "output_type": "stream",
     "text": [
      "Even Numbers (Loop): [4, 6, 8, 10, 16, 18, 22, 26]\n"
     ]
    }
   ],
   "source": [
    "# 2. List Comprehensions\n",
    "numbers = [3, 4, 6, 7, 8, 9, 10, 11, 15, 16, 18, 21, 22, 26]\n",
    "\n",
    "# Create a list of even numbers using a loop\n",
    "list1 = []\n",
    "for num in numbers:\n",
    "    if num % 2 == 0:\n",
    "        list1.append(num)\n",
    "print(\"Even Numbers (Loop):\", list1)"
   ]
  },
  {
   "cell_type": "code",
   "execution_count": 6,
   "metadata": {},
   "outputs": [
    {
     "name": "stdout",
     "output_type": "stream",
     "text": [
      "Even Numbers (List Comprehension): [4, 6, 8, 10, 16, 18, 22, 26]\n"
     ]
    }
   ],
   "source": [
    "# Create a list of even numbers using list comprehension\n",
    "list1_comp = [num for num in numbers if num % 2 == 0]\n",
    "print(\"Even Numbers (List Comprehension):\", list1_comp)"
   ]
  },
  {
   "cell_type": "code",
   "execution_count": 7,
   "metadata": {},
   "outputs": [
    {
     "name": "stdout",
     "output_type": "stream",
     "text": [
      "Squared Numbers: [9, 16, 36, 49, 64, 81, 100]\n"
     ]
    }
   ],
   "source": [
    "# Create a list of squares using list comprehension\n",
    "squared_numbers = [num**2 for num in numbers[:7]]  # Limiting to 7 numbers for demonstration\n",
    "print(\"Squared Numbers:\", squared_numbers)"
   ]
  },
  {
   "cell_type": "code",
   "execution_count": 8,
   "metadata": {},
   "outputs": [
    {
     "name": "stdout",
     "output_type": "stream",
     "text": [
      "a d\n",
      "a e\n",
      "a f\n",
      "b d\n",
      "b e\n",
      "b f\n",
      "c d\n",
      "c e\n",
      "c f\n"
     ]
    }
   ],
   "source": [
    "# 3. Nested for loop using list comprehension\n",
    "str1 = 'abc'\n",
    "str2 = 'def'\n",
    "\n",
    "# Nested loop using traditional for-loops\n",
    "for char1 in str1:\n",
    "    for char2 in str2:\n",
    "        print(char1, char2)"
   ]
  },
  {
   "cell_type": "code",
   "execution_count": 9,
   "metadata": {},
   "outputs": [
    {
     "name": "stdout",
     "output_type": "stream",
     "text": [
      "Nested Combinations: ['a d', 'a e', 'a f', 'b d', 'b e', 'b f', 'c d', 'c e', 'c f']\n"
     ]
    }
   ],
   "source": [
    "# Nested loop using list comprehension\n",
    "nested_list = [char1 + ' ' + char2 for char1 in str1 for char2 in str2]\n",
    "print(\"Nested Combinations:\", nested_list)"
   ]
  }
 ],
 "metadata": {
  "kernelspec": {
   "display_name": "Python 3",
   "language": "python",
   "name": "python3"
  },
  "language_info": {
   "codemirror_mode": {
    "name": "ipython",
    "version": 3
   },
   "file_extension": ".py",
   "mimetype": "text/x-python",
   "name": "python",
   "nbconvert_exporter": "python",
   "pygments_lexer": "ipython3",
   "version": "3.13.1"
  }
 },
 "nbformat": 4,
 "nbformat_minor": 4
}
